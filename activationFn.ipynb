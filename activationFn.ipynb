{
 "cells": [
  {
   "cell_type": "markdown",
   "metadata": {},
   "source": [
    "### Activation Functions:\n",
    "- sigmoid \n",
    "- tanh \n",
    "- relu \n",
    "<br/> \n",
    "Helpful resource: http://cs231n.github.io/optimization-2/"
   ]
  },
  {
   "cell_type": "code",
   "execution_count": 8,
   "metadata": {
    "collapsed": true
   },
   "outputs": [],
   "source": [
    "import numpy as np\n",
    "import math"
   ]
  },
  {
   "cell_type": "code",
   "execution_count": 71,
   "metadata": {
    "collapsed": true
   },
   "outputs": [],
   "source": [
    "def sigmoid(X, W):\n",
    "    '''\n",
    "    '''\n",
    "    # Forward pass:\n",
    "    D = W.dot(X)\n",
    "    f = 1.0/(np.power(math.exp(1), D) + 1)\n",
    "    \n",
    "    # Backpropagation:\n",
    "    dD = (1 - f) * f # gradient of dot variable (D)\n",
    "    dX = W.T.dot(dD) # backprop into X\n",
    "    dW = dD.dot(X.T) # backprop into W\n",
    "    \n",
    "    return  f, dX, dW"
   ]
  },
  {
   "cell_type": "code",
   "execution_count": 72,
   "metadata": {
    "collapsed": false
   },
   "outputs": [
    {
     "data": {
      "text/plain": [
       "(array([[0.54029475, 0.03620454, 0.40074414],\n",
       "        [0.34730656, 0.76744243, 0.32937905],\n",
       "        [0.93432013, 0.73179928, 0.9496582 ],\n",
       "        [0.27592704, 0.96527985, 0.9573579 ],\n",
       "        [0.90257859, 0.05932879, 0.98914803]]),\n",
       " array([[-0.44251687,  0.15202309, -0.44074151],\n",
       "        [-0.06873408,  0.30653362,  0.18602718],\n",
       "        [-0.01183154, -0.13829986,  0.10514979],\n",
       "        [ 0.1799951 , -0.03521037,  0.1062866 ],\n",
       "        [ 0.67177537,  0.28820923,  0.43766789],\n",
       "        [-0.08192977,  0.07122554,  0.10800825],\n",
       "        [ 0.1305745 ,  0.04136289,  0.00871929],\n",
       "        [-0.25513021,  0.37696627, -0.02960013],\n",
       "        [-0.57928433, -0.28435   , -0.23057662],\n",
       "        [-0.30366184, -0.13899163, -0.21764941]]),\n",
       " array([[-0.54000864, -0.07989055, -0.18967666, -0.2472814 , -0.33322183,\n",
       "         -0.06116737, -0.23706975, -0.08616257,  0.66635193, -0.56961689],\n",
       "        [-0.57506651, -0.05608096,  0.00995958, -0.35494997, -0.30493581,\n",
       "          0.03532468, -0.42951949, -0.12846636,  0.52869243, -0.43663406],\n",
       "        [-0.22574336, -0.00516327,  0.18851482, -0.22677797, -0.06093584,\n",
       "          0.09143771, -0.30609928, -0.0756017 ,  0.05264485, -0.01906081],\n",
       "        [-0.29415636, -0.14103447, -0.13364   , -0.20655288, -0.01879509,\n",
       "         -0.1580236 ,  0.08200637,  0.03388638,  0.41867622, -0.28675877],\n",
       "        [-0.14523432, -0.06127401, -0.00693912, -0.12724662,  0.00411382,\n",
       "         -0.04970228, -0.00939495,  0.00627644,  0.15622478, -0.09437949]]))"
      ]
     },
     "execution_count": 72,
     "metadata": {},
     "output_type": "execute_result"
    }
   ],
   "source": [
    "# Test:\n",
    "# matrix-matrix multiply gradient\n",
    "np.random.seed(100)\n",
    "W = np.random.randn(5,10)\n",
    "X = np.random.randn(10,3)\n",
    "D = W.dot(X)\n",
    "\n",
    "dD = np.random.randn(*D.shape) # same shape as D\n",
    "dW = dD.dot(X.T)\n",
    "dX = W.T.dot(dD)\n",
    "\n",
    "sigmoid(X, W)"
   ]
  },
  {
   "cell_type": "code",
   "execution_count": 42,
   "metadata": {
    "collapsed": false
   },
   "outputs": [],
   "source": [
    "def sigmoid1(x, w):\n",
    "    ''' Computes and returns output of sigmoid fn (f), dx, dw\n",
    "        Args:\n",
    "            x: inputs\n",
    "            w: weights\n",
    "            Assume x and w are 1D vectors of the same dimension\n",
    "    '''\n",
    "    # Forward pass:\n",
    "    dot = np.dot(x,w)\n",
    "    f = 1.0/(1 + math.exp(-dot))\n",
    "    \n",
    "    # Backpropagation:\n",
    "    ddot = (1 - f)*f  # gradient on dot variable\n",
    "    dx = [i * ddot for i in w] # backprop into x\n",
    "    dw = [i * ddot for i in x] # backprop into w\n",
    "    \n",
    "    return f, dx, dw"
   ]
  },
  {
   "cell_type": "code",
   "execution_count": 43,
   "metadata": {
    "collapsed": false
   },
   "outputs": [
    {
     "data": {
      "text/plain": [
       "(0.9820137900379085,\n",
       " [-0.017662706213291107, -0.035325412426582214],\n",
       " [0.035325412426582214, -0.05298811863987332])"
      ]
     },
     "execution_count": 43,
     "metadata": {},
     "output_type": "execute_result"
    }
   ],
   "source": [
    "# TestL\n",
    "w = [2,-3]\n",
    "x = [-1, -2]\n",
    "\n",
    "np.dot(x,w), \n",
    "f, dx, dw = sigmoid1(w,x)\n",
    "f, dx, dw"
   ]
  },
  {
   "cell_type": "code",
   "execution_count": null,
   "metadata": {
    "collapsed": false
   },
   "outputs": [],
   "source": []
  },
  {
   "cell_type": "code",
   "execution_count": null,
   "metadata": {
    "collapsed": true
   },
   "outputs": [],
   "source": []
  }
 ],
 "metadata": {
  "anaconda-cloud": {},
  "kernelspec": {
   "display_name": "Pytorch0.4",
   "language": "python",
   "name": "pytorch0.4"
  },
  "language_info": {
   "codemirror_mode": {
    "name": "ipython",
    "version": 3
   },
   "file_extension": ".py",
   "mimetype": "text/x-python",
   "name": "python",
   "nbconvert_exporter": "python",
   "pygments_lexer": "ipython3",
   "version": "3.5.5"
  }
 },
 "nbformat": 4,
 "nbformat_minor": 1
}
