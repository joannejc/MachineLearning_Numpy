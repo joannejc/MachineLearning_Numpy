{
 "cells": [
  {
   "cell_type": "markdown",
   "metadata": {},
   "source": [
    "### Activation Functions:\n",
    "- sigmoid \n",
    "- tanh \n",
    "- relu \n",
    "<br/> \n",
    "Helpful resource: http://cs231n.github.io/optimization-2/"
   ]
  },
  {
   "cell_type": "code",
   "execution_count": 108,
   "metadata": {
    "collapsed": true
   },
   "outputs": [],
   "source": [
    "import numpy as np\n"
   ]
  },
  {
   "cell_type": "code",
   "execution_count": 132,
   "metadata": {
    "collapsed": true
   },
   "outputs": [],
   "source": [
    "def sigmoid(X, W):\n",
    "    '''\n",
    "    Computes and returns output of sigmoid fn (f), dX, dW\n",
    "        Args:\n",
    "            X: inputs\n",
    "            W: weights\n",
    "            X, W should be numpy arrays, could be either matrices or vectors of the same size\n",
    "    '''\n",
    "    \n",
    "    # Forward pass:\n",
    "    D = W.dot(X)\n",
    "    f = 1.0/(np.exp(D) + 1)\n",
    "    \n",
    "    # Backpropagation:\n",
    "    dD = np.asarray((1 - f) * f) # gradient of dot variable (D)\n",
    "    dX = W.T.dot(dD) # backprop into X\n",
    "    dW = dD.dot(X.T) # backprop into W\n",
    "    \n",
    "    return  f, dX, dW"
   ]
  },
  {
   "cell_type": "code",
   "execution_count": 133,
   "metadata": {
    "collapsed": false
   },
   "outputs": [
    {
     "data": {
      "text/plain": [
       "(0.01798620996209156, array([[0.54029475, 0.03620454, 0.40074414],\n",
       "        [0.34730656, 0.76744243, 0.32937905],\n",
       "        [0.93432013, 0.73179928, 0.9496582 ],\n",
       "        [0.27592704, 0.96527985, 0.9573579 ],\n",
       "        [0.90257859, 0.05932879, 0.98914803]]))"
      ]
     },
     "execution_count": 133,
     "metadata": {},
     "output_type": "execute_result"
    }
   ],
   "source": [
    "# Test:\n",
    "# matrix-matrix test:\n",
    "np.random.seed(100)\n",
    "W = np.random.randn(5,10)\n",
    "X = np.random.randn(10,3)\n",
    "\n",
    "F, dX, dW = sigmoid(X, W)\n",
    "\n",
    "# vector-vector test:\n",
    "w = [2,-3]\n",
    "x = [-1, -2]\n",
    "x = np.asarray(x)\n",
    "w = np.asarray(w)\n",
    "f, dx, dw = sigmoid(x,w)\n",
    "\n",
    "f, F"
   ]
  },
  {
   "cell_type": "code",
   "execution_count": null,
   "metadata": {
    "collapsed": false
   },
   "outputs": [],
   "source": []
  },
  {
   "cell_type": "code",
   "execution_count": null,
   "metadata": {
    "collapsed": true
   },
   "outputs": [],
   "source": []
  }
 ],
 "metadata": {
  "anaconda-cloud": {},
  "kernelspec": {
   "display_name": "Pytorch0.4",
   "language": "python",
   "name": "pytorch0.4"
  },
  "language_info": {
   "codemirror_mode": {
    "name": "ipython",
    "version": 3
   },
   "file_extension": ".py",
   "mimetype": "text/x-python",
   "name": "python",
   "nbconvert_exporter": "python",
   "pygments_lexer": "ipython3",
   "version": "3.5.5"
  }
 },
 "nbformat": 4,
 "nbformat_minor": 1
}
